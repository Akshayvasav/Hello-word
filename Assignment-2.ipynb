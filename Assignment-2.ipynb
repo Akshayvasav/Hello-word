{
 "cells": [
  {
   "cell_type": "markdown",
   "metadata": {},
   "source": [
    "Task 1:\n",
    "1.1\n",
    "Write a Python Program to implement your own myreduce() function which works exactly like\n",
    "Python's built-in function reduce()"
   ]
  },
  {
   "cell_type": "code",
   "execution_count": 10,
   "metadata": {},
   "outputs": [
    {
     "name": "stdout",
     "output_type": "stream",
     "text": [
      "enter number:10\n",
      "45\n",
      "14\n"
     ]
    }
   ],
   "source": [
    "def myreduce(list):\n",
    "    sum=0\n",
    "    for r in list:\n",
    "        sum=sum+r\n",
    "    print(sum)\n",
    "myreduce(range(int(input(\"enter number:\"))))\n",
    "myreduce([2,3,4,5])"
   ]
  },
  {
   "cell_type": "markdown",
   "metadata": {},
   "source": [
    "1.2 Write a Python program to implement your own myfilter() function which works exactly like\n",
    "Python's built-in function filter()"
   ]
  },
  {
   "cell_type": "code",
   "execution_count": 6,
   "metadata": {},
   "outputs": [
    {
     "data": {
      "text/plain": [
       "[1, 3, 5, 7, 9]"
      ]
     },
     "execution_count": 6,
     "metadata": {},
     "output_type": "execute_result"
    }
   ],
   "source": [
    "def my_filter(func , list):\n",
    "    list1 = []\n",
    "    for i in list[:]:\n",
    "        result = func(i)\n",
    "        if result ==True:\n",
    "            list1.append(i)\n",
    "    return list1\n",
    "my_filter( lambda x :  x%2!=0 , [1,2,3,4,5,6,7,8,9] )"
   ]
  },
  {
   "cell_type": "markdown",
   "metadata": {},
   "source": [
    "3) Write List comprehensions to produce the following Lists\n",
    "#['A', 'C', 'A', 'D', 'G', 'I', ’L’, ‘ D’] \n",
    "#['x', 'xx', 'xxx', 'xxxx', 'y', 'yy', 'yyy', 'yyyy', 'z', 'zz', 'zzz', 'zzzz']\n",
    "#['x', 'y', 'z', 'xx', 'yy', 'zz', 'xx', 'yy', 'zz', 'xxxx', 'yyyy', 'zzzz']\n",
    "#[[2], [3], [4], [3], [4], [5], [4], [5], [6]]\n",
    "#[[2, 3, 4, 5], [3, 4, 5, 6], [4, 5, 6, 7], [5, 6, 7, 8]]\n",
    "#[(1, 1), (2, 1), (3, 1), (1, 2), (2, 2), (3, 2), (1, 3), (2, 3), (3, 3)]"
   ]
  },
  {
   "cell_type": "code",
   "execution_count": 11,
   "metadata": {},
   "outputs": [
    {
     "data": {
      "text/plain": [
       "['A', 'C', 'A', 'D', 'G', 'I', 'L', 'D']"
      ]
     },
     "execution_count": 11,
     "metadata": {},
     "output_type": "execute_result"
    }
   ],
   "source": [
    "[i for i in \"ACADGILD\"]"
   ]
  },
  {
   "cell_type": "code",
   "execution_count": 1,
   "metadata": {},
   "outputs": [
    {
     "data": {
      "text/plain": [
       "['x', 'xx', 'xxx', 'xxxx', 'y', 'yy', 'yyy', 'yyyy', 'z', 'zz', 'zzz', 'zzzz']"
      ]
     },
     "execution_count": 1,
     "metadata": {},
     "output_type": "execute_result"
    }
   ],
   "source": [
    "# ll=[]\n",
    "# for i in 'xyz':\n",
    "#     for j in range(1,5):\n",
    "#         ll.append(i*j)\n",
    "# print(ll)\n",
    "[i*j for i in 'xyz'for j in range(1,5)]"
   ]
  },
  {
   "cell_type": "code",
   "execution_count": 3,
   "metadata": {},
   "outputs": [
    {
     "data": {
      "text/plain": [
       "['x', 'y', 'z', 'xx', 'yy', 'zz', 'xxx', 'yyy', 'zzz', 'xxxx', 'yyyy', 'zzzz']"
      ]
     },
     "execution_count": 3,
     "metadata": {},
     "output_type": "execute_result"
    }
   ],
   "source": [
    "[i*j for i in range(1,5) for j in 'xyz']"
   ]
  },
  {
   "cell_type": "code",
   "execution_count": 5,
   "metadata": {},
   "outputs": [
    {
     "data": {
      "text/plain": [
       "[[2], [3], [4], [3], [4], [5], [4], [5], [6]]"
      ]
     },
     "execution_count": 5,
     "metadata": {},
     "output_type": "execute_result"
    }
   ],
   "source": [
    "# ll2 = []\n",
    "# for i in range(2,5):\n",
    "#     for j in range(0,3):\n",
    "#         ll2.append([i+j])\n",
    "# print(ll2)\n",
    "[[i+j] for i in range(2,5) for j in range(0,3)]"
   ]
  },
  {
   "cell_type": "markdown",
   "metadata": {},
   "source": [
    "#[[2, 3, 4, 5], [3, 4, 5, 6], [4, 5, 6, 7], [5, 6, 7, 8]]"
   ]
  },
  {
   "cell_type": "code",
   "execution_count": 7,
   "metadata": {},
   "outputs": [
    {
     "name": "stdout",
     "output_type": "stream",
     "text": [
      "[[2, 3, 4, 5], [3, 4, 5, 6], [4, 5, 6, 7], [5, 6, 7, 8]]\n"
     ]
    },
    {
     "data": {
      "text/plain": [
       "[[2, 3, 4, 5], [3, 4, 5, 6], [4, 5, 6, 7], [5, 6, 7, 8]]"
      ]
     },
     "execution_count": 7,
     "metadata": {},
     "output_type": "execute_result"
    }
   ],
   "source": [
    "# ll3=[]\n",
    "# for i in range(2,6):\n",
    "#     temp=[]\n",
    "#     for j in range(0,4):\n",
    "#         temp.append(i+j)\n",
    "#     ll3.append(temp)\n",
    "# print(ll3)\n",
    "[[i+j for i in range(2,6)] for j in range(0,4)]"
   ]
  },
  {
   "cell_type": "markdown",
   "metadata": {},
   "source": [
    "#[(1, 1), (2, 1), (3, 1), (1, 2), (2, 2), (3, 2), (1, 3), (2, 3), (3, 3)]"
   ]
  },
  {
   "cell_type": "code",
   "execution_count": 9,
   "metadata": {},
   "outputs": [
    {
     "data": {
      "text/plain": [
       "[(1, 1), (2, 1), (3, 1), (1, 2), (2, 2), (3, 2), (1, 3), (2, 3), (3, 3)]"
      ]
     },
     "execution_count": 9,
     "metadata": {},
     "output_type": "execute_result"
    }
   ],
   "source": [
    "# ll4 = []\n",
    "# for i in range(1,4):\n",
    "#     for j in range(1,4):\n",
    "#         ll4.append((j,i))\n",
    "# print(ll4)\n",
    "[(j,i) for i in range(1,4)for j in range(1,4)]"
   ]
  },
  {
   "cell_type": "markdown",
   "metadata": {},
   "source": [
    "3) Implement a function longestWord() that takes a list of words and returns the longest one."
   ]
  },
  {
   "cell_type": "code",
   "execution_count": 86,
   "metadata": {},
   "outputs": [
    {
     "name": "stdout",
     "output_type": "stream",
     "text": [
      "zaheer khan\n"
     ]
    }
   ],
   "source": [
    "def lw(list):\n",
    "    word=\"\"\n",
    "    for i in list:\n",
    "        if len(word) < len(i):\n",
    "            word=i\n",
    "    return word\n",
    "\n",
    "long_word=lw([\"sachin\",\"sehwag\",\"dravid\",\"ganguly\"])\n",
    "print(long_word)"
   ]
  },
  {
   "cell_type": "markdown",
   "metadata": {},
   "source": [
    "Task 2:\n",
    "1.1\n",
    "Write a Python Program(with class concepts) to find the area of the triangle using the below\n",
    "formula.\n",
    "area = (s*(s-a)*(s-b)*(s-c)) ** 0.5\n",
    "Function to take the length of the sides of triangle from user should be defined in the parent\n",
    "class and function to calculate the area should be defined in subclass."
   ]
  },
  {
   "cell_type": "code",
   "execution_count": 51,
   "metadata": {},
   "outputs": [
    {
     "name": "stdout",
     "output_type": "stream",
     "text": [
      "Please Enter first Side: 10\n",
      "Please Enter second Side: 15\n",
      "Please Enter third Side: 10\n",
      "Area of triangle is:  1230.46875\n"
     ]
    }
   ],
   "source": [
    "class sides:\n",
    "    def __init__(self):\n",
    "        self.side1 = None\n",
    "        self.side2 = None\n",
    "        self.side3 = None\n",
    "\n",
    "    def inputSides(self):\n",
    "        self.side1 = int(input(\"Please Enter first Side: \"))\n",
    "        self.side2 = int(input(\"Please Enter second Side: \"))\n",
    "        self.side3 = int(input(\"Please Enter third Side: \"))\n",
    "\n",
    "class area(sides):\n",
    "    def __init__(self):\n",
    "        super().__init__()\n",
    "\n",
    "    def calculateArea(self):\n",
    "        s = (self.side1+self.side2+self.side3)/2\n",
    "        area = (s*(s-self.side1)*(s-self.side2)*(s-self.side3))*0.5\n",
    "        print(\"Area of triangle is: \",area)\n",
    "\n",
    "triangle_object = area()\n",
    "triangle_object.inputSides()\n",
    "triangle_object.calculateArea()"
   ]
  },
  {
   "cell_type": "markdown",
   "metadata": {},
   "source": [
    "#1.2\n",
    "#Write a function filter_long_words() that takes a list of words and an integer n and returns the list of words that are longer than n."
   ]
  },
  {
   "cell_type": "code",
   "execution_count": 69,
   "metadata": {},
   "outputs": [
    {
     "name": "stdout",
     "output_type": "stream",
     "text": [
      "['ganguly', 'zaheer khan']\n"
     ]
    }
   ],
   "source": [
    "def filter_long_words(list,n):\n",
    "    ll=[]\n",
    "    for i in list:\n",
    "        if len(i) > n:\n",
    "            ll.append(i)\n",
    "    return ll\n",
    "lowo=filter_long_words([\"sachin\",\"sehwag\",\"dravid\",\"ganguly\",\"zaheer khan\"],6)\n",
    "print(lowo)"
   ]
  },
  {
   "cell_type": "markdown",
   "metadata": {},
   "source": [
    "2.1\n",
    "Write a Python program using function concept that maps list of words into a list of integers\n",
    "representing the lengths of the corresponding words .\n",
    "Hint: If a list [ ab,cde,erty] is passed on to the python function output should come as [2,3,4]\n",
    "Here 2,3 and 4 are the lengths of the words in the list."
   ]
  },
  {
   "cell_type": "code",
   "execution_count": 71,
   "metadata": {},
   "outputs": [
    {
     "name": "stdout",
     "output_type": "stream",
     "text": [
      "[6, 6, 6, 7, 11]\n"
     ]
    }
   ],
   "source": [
    "def word_to_int(list):\n",
    "    li=[]\n",
    "    for i in list:\n",
    "        li.append(len(i))\n",
    "    return li\n",
    "to_int=word_to_int([\"sachin\",\"sehwag\",\"dravid\",\"ganguly\",\"zaheer khan\"])\n",
    "print(to_int)"
   ]
  },
  {
   "cell_type": "markdown",
   "metadata": {},
   "source": [
    "2.2\n",
    "Write a Python function which takes a character (i.e. a string of length 1) and returns True if it is\n",
    "a vowel, False otherwise"
   ]
  },
  {
   "cell_type": "code",
   "execution_count": 84,
   "metadata": {},
   "outputs": [
    {
     "name": "stdout",
     "output_type": "stream",
     "text": [
      "False\n"
     ]
    }
   ],
   "source": [
    "def vowel(str):\n",
    "    if (str == \"a\" or str == \"e\" or str == \"i\" or str == \"o\" or str == \"u\"):\n",
    "        return True\n",
    "    else:\n",
    "        return False\n",
    "\n",
    "vowel_or_not=vowel(\"b\")\n",
    "print(vowel_or_not)"
   ]
  }
 ],
 "metadata": {
  "kernelspec": {
   "display_name": "Python 3",
   "language": "python",
   "name": "python3"
  },
  "language_info": {
   "codemirror_mode": {
    "name": "ipython",
    "version": 3
   },
   "file_extension": ".py",
   "mimetype": "text/x-python",
   "name": "python",
   "nbconvert_exporter": "python",
   "pygments_lexer": "ipython3",
   "version": "3.6.4"
  }
 },
 "nbformat": 4,
 "nbformat_minor": 2
}
